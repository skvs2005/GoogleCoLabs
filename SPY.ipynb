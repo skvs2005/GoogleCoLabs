{
  "cells": [
    {
      "cell_type": "markdown",
      "metadata": {
        "id": "view-in-github",
        "colab_type": "text"
      },
      "source": [
        "<a href=\"https://colab.research.google.com/github/skvs2005/GoogleCoLabs/blob/master/SPY.ipynb\" target=\"_parent\"><img src=\"https://colab.research.google.com/assets/colab-badge.svg\" alt=\"Open In Colab\"/></a>"
      ]
    },
    {
      "cell_type": "markdown",
      "metadata": {
        "id": "2KkalgTYMUWo"
      },
      "source": [
        "# Importing Data from Yahoo Finance with yfinance"
      ]
    },
    {
      "cell_type": "markdown",
      "metadata": {
        "id": "zkypjTMLMUWr"
      },
      "source": [
        "## Historical Price & Volume Data for one Stock"
      ]
    },
    {
      "cell_type": "code",
      "execution_count": 1,
      "metadata": {
        "colab": {
          "base_uri": "https://localhost:8080/",
          "height": 339
        },
        "id": "Zuy1MTiLMUWs",
        "outputId": "b1d4915b-35af-4fb0-974e-6f02d7caace8"
      },
      "outputs": [
        {
          "output_type": "error",
          "ename": "ModuleNotFoundError",
          "evalue": "ignored",
          "traceback": [
            "\u001b[0;31m---------------------------------------------------------------------------\u001b[0m",
            "\u001b[0;31mModuleNotFoundError\u001b[0m                       Traceback (most recent call last)",
            "\u001b[0;32m<ipython-input-1-c89a7c2a8239>\u001b[0m in \u001b[0;36m<module>\u001b[0;34m\u001b[0m\n\u001b[1;32m      1\u001b[0m \u001b[0;32mimport\u001b[0m \u001b[0mpandas\u001b[0m \u001b[0;32mas\u001b[0m \u001b[0mpd\u001b[0m\u001b[0;34m\u001b[0m\u001b[0;34m\u001b[0m\u001b[0m\n\u001b[0;32m----> 2\u001b[0;31m \u001b[0;32mimport\u001b[0m \u001b[0myfinance\u001b[0m \u001b[0;32mas\u001b[0m \u001b[0myf\u001b[0m\u001b[0;34m\u001b[0m\u001b[0;34m\u001b[0m\u001b[0m\n\u001b[0m\u001b[1;32m      3\u001b[0m \u001b[0;32mimport\u001b[0m \u001b[0mdatetime\u001b[0m \u001b[0;32mas\u001b[0m \u001b[0mdt\u001b[0m\u001b[0;34m\u001b[0m\u001b[0;34m\u001b[0m\u001b[0m\n",
            "\u001b[0;31mModuleNotFoundError\u001b[0m: No module named 'yfinance'",
            "",
            "\u001b[0;31m---------------------------------------------------------------------------\u001b[0;32m\nNOTE: If your import is failing due to a missing package, you can\nmanually install dependencies using either !pip or !apt.\n\nTo view examples of installing some common dependencies, click the\n\"Open Examples\" button below.\n\u001b[0;31m---------------------------------------------------------------------------\u001b[0m\n"
          ],
          "errorDetails": {
            "actions": [
              {
                "action": "open_url",
                "actionText": "Open Examples",
                "url": "/notebooks/snippets/importing_libraries.ipynb"
              }
            ]
          }
        }
      ],
      "source": [
        "import pandas as pd\n",
        "import yfinance as yf\n",
        "import datetime as dt"
      ]
    },
    {
      "cell_type": "code",
      "execution_count": null,
      "metadata": {
        "id": "jTLuzhuxMUWt"
      },
      "outputs": [],
      "source": [
        "ticker = \"SPY\""
      ]
    },
    {
      "cell_type": "code",
      "execution_count": null,
      "metadata": {
        "id": "dhEzQV46MUWu",
        "outputId": "2fc47756-c731-47ee-c047-e2248cdd116e"
      },
      "outputs": [
        {
          "name": "stdout",
          "output_type": "stream",
          "text": [
            "[*********************100%***********************]  1 of 1 completed\n"
          ]
        }
      ],
      "source": [
        "spy = yf.download(ticker)"
      ]
    },
    {
      "cell_type": "code",
      "execution_count": null,
      "metadata": {
        "id": "3SMDifrFMUWv",
        "outputId": "2bdae053-974b-44e9-ec82-b4a5a788e9e0"
      },
      "outputs": [
        {
          "data": {
            "text/html": [
              "<div>\n",
              "<style scoped>\n",
              "    .dataframe tbody tr th:only-of-type {\n",
              "        vertical-align: middle;\n",
              "    }\n",
              "\n",
              "    .dataframe tbody tr th {\n",
              "        vertical-align: top;\n",
              "    }\n",
              "\n",
              "    .dataframe thead th {\n",
              "        text-align: right;\n",
              "    }\n",
              "</style>\n",
              "<table border=\"1\" class=\"dataframe\">\n",
              "  <thead>\n",
              "    <tr style=\"text-align: right;\">\n",
              "      <th></th>\n",
              "      <th>Open</th>\n",
              "      <th>High</th>\n",
              "      <th>Low</th>\n",
              "      <th>Close</th>\n",
              "      <th>Adj Close</th>\n",
              "      <th>Volume</th>\n",
              "    </tr>\n",
              "    <tr>\n",
              "      <th>Date</th>\n",
              "      <th></th>\n",
              "      <th></th>\n",
              "      <th></th>\n",
              "      <th></th>\n",
              "      <th></th>\n",
              "      <th></th>\n",
              "    </tr>\n",
              "  </thead>\n",
              "  <tbody>\n",
              "    <tr>\n",
              "      <th>2020-03-30</th>\n",
              "      <td>255.699997</td>\n",
              "      <td>262.429993</td>\n",
              "      <td>253.529999</td>\n",
              "      <td>261.649994</td>\n",
              "      <td>261.649994</td>\n",
              "      <td>171369500</td>\n",
              "    </tr>\n",
              "    <tr>\n",
              "      <th>2020-03-31</th>\n",
              "      <td>260.559998</td>\n",
              "      <td>263.329987</td>\n",
              "      <td>256.220001</td>\n",
              "      <td>257.750000</td>\n",
              "      <td>257.750000</td>\n",
              "      <td>194881100</td>\n",
              "    </tr>\n",
              "    <tr>\n",
              "      <th>2020-04-01</th>\n",
              "      <td>247.979996</td>\n",
              "      <td>257.660004</td>\n",
              "      <td>243.899994</td>\n",
              "      <td>246.149994</td>\n",
              "      <td>246.149994</td>\n",
              "      <td>189554600</td>\n",
              "    </tr>\n",
              "    <tr>\n",
              "      <th>2020-04-02</th>\n",
              "      <td>245.190002</td>\n",
              "      <td>252.679993</td>\n",
              "      <td>244.589996</td>\n",
              "      <td>251.830002</td>\n",
              "      <td>251.830002</td>\n",
              "      <td>177660400</td>\n",
              "    </tr>\n",
              "    <tr>\n",
              "      <th>2020-04-03</th>\n",
              "      <td>250.759995</td>\n",
              "      <td>253.320007</td>\n",
              "      <td>245.220001</td>\n",
              "      <td>248.190002</td>\n",
              "      <td>248.190002</td>\n",
              "      <td>135310100</td>\n",
              "    </tr>\n",
              "  </tbody>\n",
              "</table>\n",
              "</div>"
            ],
            "text/plain": [
              "                  Open        High         Low       Close   Adj Close  \\\n",
              "Date                                                                     \n",
              "2020-03-30  255.699997  262.429993  253.529999  261.649994  261.649994   \n",
              "2020-03-31  260.559998  263.329987  256.220001  257.750000  257.750000   \n",
              "2020-04-01  247.979996  257.660004  243.899994  246.149994  246.149994   \n",
              "2020-04-02  245.190002  252.679993  244.589996  251.830002  251.830002   \n",
              "2020-04-03  250.759995  253.320007  245.220001  248.190002  248.190002   \n",
              "\n",
              "               Volume  \n",
              "Date                   \n",
              "2020-03-30  171369500  \n",
              "2020-03-31  194881100  \n",
              "2020-04-01  189554600  \n",
              "2020-04-02  177660400  \n",
              "2020-04-03  135310100  "
            ]
          },
          "execution_count": 12,
          "metadata": {},
          "output_type": "execute_result"
        }
      ],
      "source": [
        "spy.tail()"
      ]
    },
    {
      "cell_type": "code",
      "execution_count": null,
      "metadata": {
        "id": "BYRXiQYeMUWv",
        "outputId": "7bc4909c-4323-471c-e091-6b9cdaa7d775"
      },
      "outputs": [
        {
          "data": {
            "text/html": [
              "<div>\n",
              "<style scoped>\n",
              "    .dataframe tbody tr th:only-of-type {\n",
              "        vertical-align: middle;\n",
              "    }\n",
              "\n",
              "    .dataframe tbody tr th {\n",
              "        vertical-align: top;\n",
              "    }\n",
              "\n",
              "    .dataframe thead th {\n",
              "        text-align: right;\n",
              "    }\n",
              "</style>\n",
              "<table border=\"1\" class=\"dataframe\">\n",
              "  <thead>\n",
              "    <tr style=\"text-align: right;\">\n",
              "      <th></th>\n",
              "      <th>Open</th>\n",
              "      <th>High</th>\n",
              "      <th>Low</th>\n",
              "      <th>Close</th>\n",
              "      <th>Adj Close</th>\n",
              "      <th>Volume</th>\n",
              "      <th>Close-Open</th>\n",
              "      <th>Close-Low</th>\n",
              "      <th>High-Close</th>\n",
              "      <th>PreviousDayClose</th>\n",
              "      <th>Open-PreviousDayClose</th>\n",
              "      <th>High-Open</th>\n",
              "      <th>Open-Low</th>\n",
              "      <th>NextDayOpen</th>\n",
              "      <th>NextDayClose</th>\n",
              "      <th>NextDayHigh</th>\n",
              "      <th>NextDayLow</th>\n",
              "      <th>NextDayClosePctChg</th>\n",
              "    </tr>\n",
              "    <tr>\n",
              "      <th>Date</th>\n",
              "      <th></th>\n",
              "      <th></th>\n",
              "      <th></th>\n",
              "      <th></th>\n",
              "      <th></th>\n",
              "      <th></th>\n",
              "      <th></th>\n",
              "      <th></th>\n",
              "      <th></th>\n",
              "      <th></th>\n",
              "      <th></th>\n",
              "      <th></th>\n",
              "      <th></th>\n",
              "      <th></th>\n",
              "      <th></th>\n",
              "      <th></th>\n",
              "      <th></th>\n",
              "      <th></th>\n",
              "    </tr>\n",
              "  </thead>\n",
              "  <tbody>\n",
              "    <tr>\n",
              "      <th>2020-03-30</th>\n",
              "      <td>255.70</td>\n",
              "      <td>262.43</td>\n",
              "      <td>253.53</td>\n",
              "      <td>261.65</td>\n",
              "      <td>261.65</td>\n",
              "      <td>171369500</td>\n",
              "      <td>5.95</td>\n",
              "      <td>8.12</td>\n",
              "      <td>0.78</td>\n",
              "      <td>253.42</td>\n",
              "      <td>2.28</td>\n",
              "      <td>6.73</td>\n",
              "      <td>2.17</td>\n",
              "      <td>260.56</td>\n",
              "      <td>257.75</td>\n",
              "      <td>263.33</td>\n",
              "      <td>256.22</td>\n",
              "      <td>-1.49</td>\n",
              "    </tr>\n",
              "    <tr>\n",
              "      <th>2020-03-31</th>\n",
              "      <td>260.56</td>\n",
              "      <td>263.33</td>\n",
              "      <td>256.22</td>\n",
              "      <td>257.75</td>\n",
              "      <td>257.75</td>\n",
              "      <td>194881100</td>\n",
              "      <td>-2.81</td>\n",
              "      <td>1.53</td>\n",
              "      <td>5.58</td>\n",
              "      <td>261.65</td>\n",
              "      <td>-1.09</td>\n",
              "      <td>2.77</td>\n",
              "      <td>4.34</td>\n",
              "      <td>247.98</td>\n",
              "      <td>246.15</td>\n",
              "      <td>257.66</td>\n",
              "      <td>243.90</td>\n",
              "      <td>-4.50</td>\n",
              "    </tr>\n",
              "    <tr>\n",
              "      <th>2020-04-01</th>\n",
              "      <td>247.98</td>\n",
              "      <td>257.66</td>\n",
              "      <td>243.90</td>\n",
              "      <td>246.15</td>\n",
              "      <td>246.15</td>\n",
              "      <td>189554600</td>\n",
              "      <td>-1.83</td>\n",
              "      <td>2.25</td>\n",
              "      <td>11.51</td>\n",
              "      <td>257.75</td>\n",
              "      <td>-9.77</td>\n",
              "      <td>9.68</td>\n",
              "      <td>4.08</td>\n",
              "      <td>245.19</td>\n",
              "      <td>251.83</td>\n",
              "      <td>252.68</td>\n",
              "      <td>244.59</td>\n",
              "      <td>2.31</td>\n",
              "    </tr>\n",
              "    <tr>\n",
              "      <th>2020-04-02</th>\n",
              "      <td>245.19</td>\n",
              "      <td>252.68</td>\n",
              "      <td>244.59</td>\n",
              "      <td>251.83</td>\n",
              "      <td>251.83</td>\n",
              "      <td>177660400</td>\n",
              "      <td>6.64</td>\n",
              "      <td>7.24</td>\n",
              "      <td>0.85</td>\n",
              "      <td>246.15</td>\n",
              "      <td>-0.96</td>\n",
              "      <td>7.49</td>\n",
              "      <td>0.60</td>\n",
              "      <td>250.76</td>\n",
              "      <td>248.19</td>\n",
              "      <td>253.32</td>\n",
              "      <td>245.22</td>\n",
              "      <td>-1.45</td>\n",
              "    </tr>\n",
              "    <tr>\n",
              "      <th>2020-04-03</th>\n",
              "      <td>250.76</td>\n",
              "      <td>253.32</td>\n",
              "      <td>245.22</td>\n",
              "      <td>248.19</td>\n",
              "      <td>248.19</td>\n",
              "      <td>135310100</td>\n",
              "      <td>-2.57</td>\n",
              "      <td>2.97</td>\n",
              "      <td>5.13</td>\n",
              "      <td>251.83</td>\n",
              "      <td>-1.07</td>\n",
              "      <td>2.56</td>\n",
              "      <td>5.54</td>\n",
              "      <td>NaN</td>\n",
              "      <td>NaN</td>\n",
              "      <td>NaN</td>\n",
              "      <td>NaN</td>\n",
              "      <td>NaN</td>\n",
              "    </tr>\n",
              "  </tbody>\n",
              "</table>\n",
              "</div>"
            ],
            "text/plain": [
              "              Open    High     Low   Close  Adj Close     Volume  Close-Open  \\\n",
              "Date                                                                           \n",
              "2020-03-30  255.70  262.43  253.53  261.65     261.65  171369500        5.95   \n",
              "2020-03-31  260.56  263.33  256.22  257.75     257.75  194881100       -2.81   \n",
              "2020-04-01  247.98  257.66  243.90  246.15     246.15  189554600       -1.83   \n",
              "2020-04-02  245.19  252.68  244.59  251.83     251.83  177660400        6.64   \n",
              "2020-04-03  250.76  253.32  245.22  248.19     248.19  135310100       -2.57   \n",
              "\n",
              "            Close-Low  High-Close  PreviousDayClose  Open-PreviousDayClose  \\\n",
              "Date                                                                         \n",
              "2020-03-30       8.12        0.78            253.42                   2.28   \n",
              "2020-03-31       1.53        5.58            261.65                  -1.09   \n",
              "2020-04-01       2.25       11.51            257.75                  -9.77   \n",
              "2020-04-02       7.24        0.85            246.15                  -0.96   \n",
              "2020-04-03       2.97        5.13            251.83                  -1.07   \n",
              "\n",
              "            High-Open  Open-Low  NextDayOpen  NextDayClose  NextDayHigh  \\\n",
              "Date                                                                      \n",
              "2020-03-30       6.73      2.17       260.56        257.75       263.33   \n",
              "2020-03-31       2.77      4.34       247.98        246.15       257.66   \n",
              "2020-04-01       9.68      4.08       245.19        251.83       252.68   \n",
              "2020-04-02       7.49      0.60       250.76        248.19       253.32   \n",
              "2020-04-03       2.56      5.54          NaN           NaN          NaN   \n",
              "\n",
              "            NextDayLow  NextDayClosePctChg  \n",
              "Date                                        \n",
              "2020-03-30      256.22               -1.49  \n",
              "2020-03-31      243.90               -4.50  \n",
              "2020-04-01      244.59                2.31  \n",
              "2020-04-02      245.22               -1.45  \n",
              "2020-04-03         NaN                 NaN  "
            ]
          },
          "execution_count": 26,
          "metadata": {},
          "output_type": "execute_result"
        }
      ],
      "source": [
        "start = dt.datetime(2000, 1, 1)\n",
        "end = dt.datetime.now()\n",
        "\n",
        "\n",
        "# Close Related\n",
        "spy['Close-Open'] = spy['Close'] - spy['Open']\n",
        "spy['Close-Low'] = spy['Close'] - spy['Low']\n",
        "spy['High-Close'] = spy['High'] - spy['Close']\n",
        "spy['PreviousDayClose'] = spy['Adj Close'].shift(1)\n",
        "spy['Open-PreviousDayClose'] = spy['Open'] - spy['PreviousDayClose']\n",
        "\n",
        "# Swing Related\n",
        "spy['High-Open'] = spy['High'] - spy['Open']\n",
        "spy['Open-Low'] = spy['Open'] - spy['Low']\n",
        "\n",
        "\n",
        "spy['NextDayOpen'] = spy['Open'].shift(-1)\n",
        "spy['NextDayClose'] = spy['Close'].shift(-1)\n",
        "spy['NextDayHigh'] = spy['High'].shift(-1)\n",
        "spy['NextDayLow'] = spy['Low'].shift(-1)\n",
        "\n",
        "\n",
        "\n",
        "\n",
        "\n",
        "spy['NextDayClosePctChg'] = (spy['NextDayClose'] - spy['Close']) * 100 / spy['Close']\n",
        "spy.round(2)\n",
        "# print( spy[spy.Close>spy.Open][['Close', 'Open', 'Low', 'Open-Low', 'Date']].tail(10))\n",
        "\n",
        "spy.tail(5).round(2)\n"
      ]
    },
    {
      "cell_type": "code",
      "execution_count": null,
      "metadata": {
        "id": "E7v24x8EMUWw",
        "outputId": "42dd14e0-1a23-4e6f-858a-305e8afe0f72"
      },
      "outputs": [
        {
          "name": "stdout",
          "output_type": "stream",
          "text": [
            "OverThisManyDays: 30\n",
            "Down Swing On Up Days:\n",
            "count    30.000000\n",
            "mean      2.785331\n",
            "std       3.589320\n",
            "min       0.040009\n",
            "25%       0.417496\n",
            "50%       1.305008\n",
            "75%       3.099998\n",
            "max      14.569992\n",
            "Name: Open-Low, dtype: float64\n"
          ]
        }
      ],
      "source": [
        "OverThisManyDays = 30\n",
        "print(\"OverThisManyDays:\",OverThisManyDays)\n",
        "print(\"Down Swing On Up Days:\")\n",
        "print(spy[spy.Close > spy.Open]['Open-Low'].tail(OverThisManyDays).describe())"
      ]
    },
    {
      "cell_type": "code",
      "execution_count": null,
      "metadata": {
        "id": "HrURKZGlMUWw",
        "outputId": "79fbbf4e-3e7e-4fb0-b70c-967d8ceccf78"
      },
      "outputs": [
        {
          "name": "stdout",
          "output_type": "stream",
          "text": [
            "#################\n",
            "OverThisManyDays: 30\n",
            "Up Swing On Down Days:\n",
            "count    30.000000\n",
            "mean      3.018332\n",
            "std       4.068017\n",
            "min       0.049988\n",
            "25%       0.272499\n",
            "50%       1.159988\n",
            "75%       3.819992\n",
            "max      15.720001\n",
            "Name: High-Open, dtype: float64\n"
          ]
        }
      ],
      "source": [
        "print(\"#################\")\n",
        "print(\"OverThisManyDays:\",OverThisManyDays)\n",
        "print(\"Up Swing On Down Days:\")\n",
        "print(spy[spy.Close < spy.Open]['High-Open'].tail(OverThisManyDays).describe())"
      ]
    },
    {
      "cell_type": "code",
      "execution_count": null,
      "metadata": {
        "id": "ER74jnX7MUWx",
        "outputId": "66977d02-883f-40e9-df2f-596f695a10bb"
      },
      "outputs": [
        {
          "data": {
            "text/html": [
              "<div>\n",
              "<style scoped>\n",
              "    .dataframe tbody tr th:only-of-type {\n",
              "        vertical-align: middle;\n",
              "    }\n",
              "\n",
              "    .dataframe tbody tr th {\n",
              "        vertical-align: top;\n",
              "    }\n",
              "\n",
              "    .dataframe thead th {\n",
              "        text-align: right;\n",
              "    }\n",
              "</style>\n",
              "<table border=\"1\" class=\"dataframe\">\n",
              "  <thead>\n",
              "    <tr style=\"text-align: right;\">\n",
              "      <th></th>\n",
              "      <th>Open</th>\n",
              "      <th>High</th>\n",
              "      <th>Low</th>\n",
              "      <th>Close</th>\n",
              "      <th>Adj Close</th>\n",
              "      <th>Volume</th>\n",
              "      <th>Close-Open</th>\n",
              "      <th>Close-Low</th>\n",
              "      <th>High-Close</th>\n",
              "      <th>PreviousDayClose</th>\n",
              "      <th>Open-PreviousDayClose</th>\n",
              "      <th>High-Open</th>\n",
              "      <th>Open-Low</th>\n",
              "      <th>NextDayOpen</th>\n",
              "      <th>NextDayClose</th>\n",
              "      <th>NextDayHigh</th>\n",
              "      <th>NextDayLow</th>\n",
              "      <th>NextDayClosePctChg</th>\n",
              "    </tr>\n",
              "    <tr>\n",
              "      <th>Date</th>\n",
              "      <th></th>\n",
              "      <th></th>\n",
              "      <th></th>\n",
              "      <th></th>\n",
              "      <th></th>\n",
              "      <th></th>\n",
              "      <th></th>\n",
              "      <th></th>\n",
              "      <th></th>\n",
              "      <th></th>\n",
              "      <th></th>\n",
              "      <th></th>\n",
              "      <th></th>\n",
              "      <th></th>\n",
              "      <th></th>\n",
              "      <th></th>\n",
              "      <th></th>\n",
              "      <th></th>\n",
              "    </tr>\n",
              "  </thead>\n",
              "  <tbody>\n",
              "    <tr>\n",
              "      <th>2020-03-30</th>\n",
              "      <td>255.70</td>\n",
              "      <td>262.43</td>\n",
              "      <td>253.53</td>\n",
              "      <td>261.65</td>\n",
              "      <td>261.65</td>\n",
              "      <td>171369500</td>\n",
              "      <td>5.95</td>\n",
              "      <td>8.12</td>\n",
              "      <td>0.78</td>\n",
              "      <td>253.42</td>\n",
              "      <td>2.28</td>\n",
              "      <td>6.73</td>\n",
              "      <td>2.17</td>\n",
              "      <td>260.56</td>\n",
              "      <td>257.75</td>\n",
              "      <td>263.33</td>\n",
              "      <td>256.22</td>\n",
              "      <td>-1.49</td>\n",
              "    </tr>\n",
              "    <tr>\n",
              "      <th>2020-03-31</th>\n",
              "      <td>260.56</td>\n",
              "      <td>263.33</td>\n",
              "      <td>256.22</td>\n",
              "      <td>257.75</td>\n",
              "      <td>257.75</td>\n",
              "      <td>194881100</td>\n",
              "      <td>-2.81</td>\n",
              "      <td>1.53</td>\n",
              "      <td>5.58</td>\n",
              "      <td>261.65</td>\n",
              "      <td>-1.09</td>\n",
              "      <td>2.77</td>\n",
              "      <td>4.34</td>\n",
              "      <td>247.98</td>\n",
              "      <td>246.15</td>\n",
              "      <td>257.66</td>\n",
              "      <td>243.90</td>\n",
              "      <td>-4.50</td>\n",
              "    </tr>\n",
              "    <tr>\n",
              "      <th>2020-04-01</th>\n",
              "      <td>247.98</td>\n",
              "      <td>257.66</td>\n",
              "      <td>243.90</td>\n",
              "      <td>246.15</td>\n",
              "      <td>246.15</td>\n",
              "      <td>189554600</td>\n",
              "      <td>-1.83</td>\n",
              "      <td>2.25</td>\n",
              "      <td>11.51</td>\n",
              "      <td>257.75</td>\n",
              "      <td>-9.77</td>\n",
              "      <td>9.68</td>\n",
              "      <td>4.08</td>\n",
              "      <td>245.19</td>\n",
              "      <td>251.83</td>\n",
              "      <td>252.68</td>\n",
              "      <td>244.59</td>\n",
              "      <td>2.31</td>\n",
              "    </tr>\n",
              "    <tr>\n",
              "      <th>2020-04-02</th>\n",
              "      <td>245.19</td>\n",
              "      <td>252.68</td>\n",
              "      <td>244.59</td>\n",
              "      <td>251.83</td>\n",
              "      <td>251.83</td>\n",
              "      <td>177660400</td>\n",
              "      <td>6.64</td>\n",
              "      <td>7.24</td>\n",
              "      <td>0.85</td>\n",
              "      <td>246.15</td>\n",
              "      <td>-0.96</td>\n",
              "      <td>7.49</td>\n",
              "      <td>0.60</td>\n",
              "      <td>250.76</td>\n",
              "      <td>248.19</td>\n",
              "      <td>253.32</td>\n",
              "      <td>245.22</td>\n",
              "      <td>-1.45</td>\n",
              "    </tr>\n",
              "    <tr>\n",
              "      <th>2020-04-03</th>\n",
              "      <td>250.76</td>\n",
              "      <td>253.32</td>\n",
              "      <td>245.22</td>\n",
              "      <td>248.19</td>\n",
              "      <td>248.19</td>\n",
              "      <td>135310100</td>\n",
              "      <td>-2.57</td>\n",
              "      <td>2.97</td>\n",
              "      <td>5.13</td>\n",
              "      <td>251.83</td>\n",
              "      <td>-1.07</td>\n",
              "      <td>2.56</td>\n",
              "      <td>5.54</td>\n",
              "      <td>NaN</td>\n",
              "      <td>NaN</td>\n",
              "      <td>NaN</td>\n",
              "      <td>NaN</td>\n",
              "      <td>NaN</td>\n",
              "    </tr>\n",
              "  </tbody>\n",
              "</table>\n",
              "</div>"
            ],
            "text/plain": [
              "              Open    High     Low   Close  Adj Close     Volume  Close-Open  \\\n",
              "Date                                                                           \n",
              "2020-03-30  255.70  262.43  253.53  261.65     261.65  171369500        5.95   \n",
              "2020-03-31  260.56  263.33  256.22  257.75     257.75  194881100       -2.81   \n",
              "2020-04-01  247.98  257.66  243.90  246.15     246.15  189554600       -1.83   \n",
              "2020-04-02  245.19  252.68  244.59  251.83     251.83  177660400        6.64   \n",
              "2020-04-03  250.76  253.32  245.22  248.19     248.19  135310100       -2.57   \n",
              "\n",
              "            Close-Low  High-Close  PreviousDayClose  Open-PreviousDayClose  \\\n",
              "Date                                                                         \n",
              "2020-03-30       8.12        0.78            253.42                   2.28   \n",
              "2020-03-31       1.53        5.58            261.65                  -1.09   \n",
              "2020-04-01       2.25       11.51            257.75                  -9.77   \n",
              "2020-04-02       7.24        0.85            246.15                  -0.96   \n",
              "2020-04-03       2.97        5.13            251.83                  -1.07   \n",
              "\n",
              "            High-Open  Open-Low  NextDayOpen  NextDayClose  NextDayHigh  \\\n",
              "Date                                                                      \n",
              "2020-03-30       6.73      2.17       260.56        257.75       263.33   \n",
              "2020-03-31       2.77      4.34       247.98        246.15       257.66   \n",
              "2020-04-01       9.68      4.08       245.19        251.83       252.68   \n",
              "2020-04-02       7.49      0.60       250.76        248.19       253.32   \n",
              "2020-04-03       2.56      5.54          NaN           NaN          NaN   \n",
              "\n",
              "            NextDayLow  NextDayClosePctChg  \n",
              "Date                                        \n",
              "2020-03-30      256.22               -1.49  \n",
              "2020-03-31      243.90               -4.50  \n",
              "2020-04-01      244.59                2.31  \n",
              "2020-04-02      245.22               -1.45  \n",
              "2020-04-03         NaN                 NaN  "
            ]
          },
          "execution_count": 24,
          "metadata": {},
          "output_type": "execute_result"
        }
      ],
      "source": [
        "spy.tail(5).round(2)"
      ]
    },
    {
      "cell_type": "markdown",
      "metadata": {
        "id": "dHlYiJ66MUWx"
      },
      "source": [
        "## Setting specific Time Periods"
      ]
    },
    {
      "cell_type": "code",
      "execution_count": null,
      "metadata": {
        "id": "DOFUE9xHMUWx"
      },
      "outputs": [],
      "source": [
        "import pandas as pd\n",
        "import yfinance as yf"
      ]
    },
    {
      "cell_type": "code",
      "execution_count": null,
      "metadata": {
        "id": "47dEmPiMMUWy"
      },
      "outputs": [],
      "source": [
        "ticker = \"GE\""
      ]
    },
    {
      "cell_type": "code",
      "execution_count": null,
      "metadata": {
        "scrolled": true,
        "id": "f5RElEzFMUWy"
      },
      "outputs": [],
      "source": [
        "yf.download(ticker, start = \"2014-01-01\", end = \"2018-12-31\")"
      ]
    },
    {
      "cell_type": "code",
      "execution_count": null,
      "metadata": {
        "id": "SsX7_jB9MUWy"
      },
      "outputs": [],
      "source": [
        "GE = yf.download(ticker, start = \"2014-01-01\", end = \"2018-12-31\")"
      ]
    },
    {
      "cell_type": "code",
      "execution_count": null,
      "metadata": {
        "id": "Ow9Hjj0bMUWy"
      },
      "outputs": [],
      "source": [
        "GE.info()"
      ]
    },
    {
      "cell_type": "code",
      "execution_count": null,
      "metadata": {
        "scrolled": true,
        "id": "IXyNMxe_MUWz"
      },
      "outputs": [],
      "source": [
        "yf.download(ticker, period  = \"ytd\")"
      ]
    },
    {
      "cell_type": "code",
      "execution_count": null,
      "metadata": {
        "scrolled": true,
        "id": "k8NEsHyUMUWz"
      },
      "outputs": [],
      "source": [
        "yf.download(ticker, period  = \"1mo\")"
      ]
    },
    {
      "cell_type": "code",
      "execution_count": null,
      "metadata": {
        "id": "CFOUvFCTMUWz"
      },
      "outputs": [],
      "source": [
        "yf.download(ticker, period  = \"5d\")"
      ]
    },
    {
      "cell_type": "code",
      "execution_count": null,
      "metadata": {
        "scrolled": true,
        "id": "pHuHkLfUMUWz"
      },
      "outputs": [],
      "source": [
        "yf.download(ticker, period  = \"10y\")"
      ]
    },
    {
      "cell_type": "code",
      "execution_count": null,
      "metadata": {
        "id": "qrhDSkpqMUWz"
      },
      "outputs": [],
      "source": []
    },
    {
      "cell_type": "markdown",
      "metadata": {
        "id": "J_nglWzwMUWz"
      },
      "source": [
        "## Frequency Settings (Intraday)"
      ]
    },
    {
      "cell_type": "code",
      "execution_count": null,
      "metadata": {
        "id": "uddLIMvqMUW0"
      },
      "outputs": [],
      "source": [
        "import pandas as pd\n",
        "import yfinance as yf"
      ]
    },
    {
      "cell_type": "code",
      "execution_count": null,
      "metadata": {
        "id": "LQG2a4XuMUW0"
      },
      "outputs": [],
      "source": [
        "ticker = \"GE\""
      ]
    },
    {
      "cell_type": "code",
      "execution_count": null,
      "metadata": {
        "scrolled": true,
        "id": "mJJo14pGMUW0"
      },
      "outputs": [],
      "source": [
        "yf.download(ticker, period  = \"1mo\", interval = \"1h\")"
      ]
    },
    {
      "cell_type": "code",
      "execution_count": null,
      "metadata": {
        "scrolled": true,
        "id": "AoTtyZ5UMUW0"
      },
      "outputs": [],
      "source": [
        "yf.download(ticker, period  = \"1mo\", interval = \"30m\")"
      ]
    },
    {
      "cell_type": "code",
      "execution_count": null,
      "metadata": {
        "scrolled": true,
        "id": "o8W4cKK4MUW0"
      },
      "outputs": [],
      "source": [
        "yf.download(ticker, period  = \"1mo\", interval = \"5m\")"
      ]
    },
    {
      "cell_type": "code",
      "execution_count": null,
      "metadata": {
        "id": "l5eP8amQMUW1"
      },
      "outputs": [],
      "source": [
        "yf.download(ticker, period  = \"1mo\", interval = \"1m\")"
      ]
    },
    {
      "cell_type": "code",
      "execution_count": null,
      "metadata": {
        "scrolled": true,
        "id": "11EoYEfmMUW1"
      },
      "outputs": [],
      "source": [
        "yf.download(ticker, period  = \"5d\", interval = \"1m\")"
      ]
    },
    {
      "cell_type": "code",
      "execution_count": null,
      "metadata": {
        "id": "M4i66EaLMUW1"
      },
      "outputs": [],
      "source": [
        "GE = yf.download(ticker, period  = \"5d\", interval = \"1m\")"
      ]
    },
    {
      "cell_type": "code",
      "execution_count": null,
      "metadata": {
        "id": "_i44LKR8MUW1"
      },
      "outputs": [],
      "source": [
        "GE.head(10)"
      ]
    },
    {
      "cell_type": "code",
      "execution_count": null,
      "metadata": {
        "id": "VHkVbyBgMUW1"
      },
      "outputs": [],
      "source": [
        "GE.describe()"
      ]
    },
    {
      "cell_type": "code",
      "execution_count": null,
      "metadata": {
        "scrolled": true,
        "id": "e_i_9sHyMUW2"
      },
      "outputs": [],
      "source": [
        "yf.download(ticker, period  = \"5d\", prepost= True, interval = \"30m\")"
      ]
    },
    {
      "cell_type": "code",
      "execution_count": null,
      "metadata": {
        "id": "b0vrW0aDMUW2"
      },
      "outputs": [],
      "source": []
    },
    {
      "cell_type": "markdown",
      "metadata": {
        "id": "2o73uuyHMUW2"
      },
      "source": [
        "## Stock Splits and Dividends"
      ]
    },
    {
      "cell_type": "code",
      "execution_count": null,
      "metadata": {
        "id": "2GefsXIGMUW2"
      },
      "outputs": [],
      "source": [
        "import pandas as pd\n",
        "import yfinance as yf"
      ]
    },
    {
      "cell_type": "code",
      "execution_count": null,
      "metadata": {
        "id": "viKn8HTOMUW2"
      },
      "outputs": [],
      "source": [
        "ticker = \"AAPL\""
      ]
    },
    {
      "cell_type": "code",
      "execution_count": null,
      "metadata": {
        "id": "tQBHScZGMUW2"
      },
      "outputs": [],
      "source": [
        "AAPL = yf.download(ticker, period  = \"10y\", actions = True)"
      ]
    },
    {
      "cell_type": "code",
      "execution_count": null,
      "metadata": {
        "scrolled": true,
        "id": "jPrvCmjcMUW3"
      },
      "outputs": [],
      "source": [
        "AAPL"
      ]
    },
    {
      "cell_type": "code",
      "execution_count": null,
      "metadata": {
        "scrolled": true,
        "id": "klU_IaUvMUW3"
      },
      "outputs": [],
      "source": [
        "AAPL[AAPL[\"Dividends\"] > 0]"
      ]
    },
    {
      "cell_type": "code",
      "execution_count": null,
      "metadata": {
        "id": "CmZygOqVMUW3"
      },
      "outputs": [],
      "source": [
        "AAPL.loc[\"2019-08-05\":\"2019-08-15\"]"
      ]
    },
    {
      "cell_type": "code",
      "execution_count": null,
      "metadata": {
        "id": "1iwDfdUsMUW3"
      },
      "outputs": [],
      "source": [
        "AAPL.loc[\"2019-08-05\":\"2019-08-15\"].diff()"
      ]
    },
    {
      "cell_type": "code",
      "execution_count": null,
      "metadata": {
        "scrolled": true,
        "id": "PECYozv5MUW3"
      },
      "outputs": [],
      "source": [
        "AAPL[AAPL[\"Stock Splits\"] > 0]"
      ]
    },
    {
      "cell_type": "code",
      "execution_count": null,
      "metadata": {
        "id": "K9uF3JpZMUW3"
      },
      "outputs": [],
      "source": [
        "AAPL.loc[\"2014-06-05\":\"2014-06-15\"]"
      ]
    },
    {
      "cell_type": "code",
      "execution_count": null,
      "metadata": {
        "id": "Hwsu-RQ8MUW3"
      },
      "outputs": [],
      "source": []
    },
    {
      "cell_type": "markdown",
      "metadata": {
        "id": "xCtvLhqrMUW4"
      },
      "source": [
        "## Exporting to CSV/Excel"
      ]
    },
    {
      "cell_type": "code",
      "execution_count": null,
      "metadata": {
        "id": "ifvOzyZLMUW4"
      },
      "outputs": [],
      "source": [
        "import pandas as pd\n",
        "import yfinance as yf"
      ]
    },
    {
      "cell_type": "code",
      "execution_count": null,
      "metadata": {
        "id": "CeJAa6a9MUW4"
      },
      "outputs": [],
      "source": [
        "ticker = \"GE\""
      ]
    },
    {
      "cell_type": "code",
      "execution_count": null,
      "metadata": {
        "scrolled": true,
        "id": "TetUiMvAMUW4"
      },
      "outputs": [],
      "source": [
        "GE = yf.download(ticker, period  = \"5y\")"
      ]
    },
    {
      "cell_type": "code",
      "execution_count": null,
      "metadata": {
        "id": "lBFPRRkpMUW4"
      },
      "outputs": [],
      "source": [
        "GE.head()"
      ]
    },
    {
      "cell_type": "code",
      "execution_count": null,
      "metadata": {
        "id": "_iv442htMUW5"
      },
      "outputs": [],
      "source": [
        "GE.to_csv(\"GE.csv\")"
      ]
    },
    {
      "cell_type": "code",
      "execution_count": null,
      "metadata": {
        "scrolled": true,
        "id": "8K_W3sVjMUW5"
      },
      "outputs": [],
      "source": [
        "pd.read_csv(\"GE.csv\", parse_dates = [\"Date\"], index_col = \"Date\")"
      ]
    },
    {
      "cell_type": "code",
      "execution_count": null,
      "metadata": {
        "id": "XoLR8P2jMUW5"
      },
      "outputs": [],
      "source": [
        "GE.to_excel(\"GE.xls\")"
      ]
    },
    {
      "cell_type": "code",
      "execution_count": null,
      "metadata": {
        "scrolled": true,
        "id": "UWgLDG7AMUW5"
      },
      "outputs": [],
      "source": [
        "pd.read_excel(\"GE.xls\", parse_dates= [\"Date\"], index_col= \"Date\")"
      ]
    },
    {
      "cell_type": "code",
      "execution_count": null,
      "metadata": {
        "id": "zqm4WIpoMUW5"
      },
      "outputs": [],
      "source": []
    },
    {
      "cell_type": "markdown",
      "metadata": {
        "id": "n4YHmo1EMUW6"
      },
      "source": [
        "## Importing Data for many Stocks"
      ]
    },
    {
      "cell_type": "code",
      "execution_count": null,
      "metadata": {
        "id": "guh9-caeMUW6"
      },
      "outputs": [],
      "source": [
        "import pandas as pd\n",
        "import yfinance as yf"
      ]
    },
    {
      "cell_type": "code",
      "execution_count": null,
      "metadata": {
        "id": "QXfkyJm7MUW6"
      },
      "outputs": [],
      "source": [
        "ticker = [\"GE\", \"AAPL\", \"FB\"]"
      ]
    },
    {
      "cell_type": "code",
      "execution_count": null,
      "metadata": {
        "scrolled": true,
        "id": "s0AYq5_-MUW6"
      },
      "outputs": [],
      "source": [
        "yf.download(ticker, period  = \"5y\")"
      ]
    },
    {
      "cell_type": "code",
      "execution_count": null,
      "metadata": {
        "scrolled": true,
        "id": "6EDJ6_7UMUW6"
      },
      "outputs": [],
      "source": [
        "yf.download(ticker, period  = \"5y\" , group_by= \"Ticker\")"
      ]
    },
    {
      "cell_type": "code",
      "execution_count": null,
      "metadata": {
        "scrolled": true,
        "id": "1Lz0FDBdMUW7"
      },
      "outputs": [],
      "source": [
        "stocks = yf.download(ticker, period  = \"5y\").Close"
      ]
    },
    {
      "cell_type": "code",
      "execution_count": null,
      "metadata": {
        "id": "H-k9LjmQMUW7"
      },
      "outputs": [],
      "source": [
        "stocks.head()"
      ]
    },
    {
      "cell_type": "code",
      "execution_count": null,
      "metadata": {
        "id": "4yjFM5NVMUW7"
      },
      "outputs": [],
      "source": [
        "import matplotlib.pyplot as plt"
      ]
    },
    {
      "cell_type": "code",
      "execution_count": null,
      "metadata": {
        "id": "Qmv5SXORMUW7"
      },
      "outputs": [],
      "source": [
        "stocks.plot()\n",
        "plt.show()"
      ]
    },
    {
      "cell_type": "code",
      "execution_count": null,
      "metadata": {
        "id": "Ocm4gNCDMUW7"
      },
      "outputs": [],
      "source": []
    },
    {
      "cell_type": "markdown",
      "metadata": {
        "id": "rtIo-OsjMUW8"
      },
      "source": [
        "## Importing Financial Indexes"
      ]
    },
    {
      "cell_type": "code",
      "execution_count": null,
      "metadata": {
        "id": "QEOhBndKMUW8"
      },
      "outputs": [],
      "source": [
        "import pandas as pd\n",
        "import yfinance as yf"
      ]
    },
    {
      "cell_type": "code",
      "execution_count": null,
      "metadata": {
        "id": "DGd6YaL0MUW8"
      },
      "outputs": [],
      "source": [
        "ticker = [\"^DJI\", \"^GSPC\"]"
      ]
    },
    {
      "cell_type": "code",
      "execution_count": null,
      "metadata": {
        "scrolled": true,
        "id": "YREd6JniMUW8"
      },
      "outputs": [],
      "source": [
        "yf.download(ticker, period  = \"5y\")"
      ]
    },
    {
      "cell_type": "code",
      "execution_count": null,
      "metadata": {
        "id": "kxIJISVbMUW8"
      },
      "outputs": [],
      "source": [
        "indexes = yf.download(ticker, period  = \"5y\").Close"
      ]
    },
    {
      "cell_type": "code",
      "execution_count": null,
      "metadata": {
        "id": "e8XkRoMOMUW8"
      },
      "outputs": [],
      "source": [
        "indexes.head()"
      ]
    },
    {
      "cell_type": "code",
      "execution_count": null,
      "metadata": {
        "id": "V57PAGkDMUW9"
      },
      "outputs": [],
      "source": [
        "norm = indexes.div(indexes.iloc[0]).mul(100)\n",
        "norm.head()"
      ]
    },
    {
      "cell_type": "code",
      "execution_count": null,
      "metadata": {
        "id": "FaanZLB7MUW9"
      },
      "outputs": [],
      "source": [
        "norm.plot()\n",
        "plt.show()"
      ]
    },
    {
      "cell_type": "code",
      "execution_count": null,
      "metadata": {
        "id": "Flsa24zpMUW9"
      },
      "outputs": [],
      "source": [
        "ticker = [\"^DJITR\", \"^SP500TR\"]"
      ]
    },
    {
      "cell_type": "code",
      "execution_count": null,
      "metadata": {
        "id": "LPnaqaSOMUW9"
      },
      "outputs": [],
      "source": [
        "indexes = yf.download(ticker, period  = \"5y\").Close"
      ]
    },
    {
      "cell_type": "code",
      "execution_count": null,
      "metadata": {
        "scrolled": true,
        "id": "vMig3zffMUW9"
      },
      "outputs": [],
      "source": [
        "indexes"
      ]
    },
    {
      "cell_type": "code",
      "execution_count": null,
      "metadata": {
        "id": "pxHcF-4RMUW9"
      },
      "outputs": [],
      "source": []
    },
    {
      "cell_type": "markdown",
      "metadata": {
        "id": "TXhxYkG6MUW-"
      },
      "source": [
        "## Importing Currencies / FX"
      ]
    },
    {
      "cell_type": "code",
      "execution_count": null,
      "metadata": {
        "id": "RozgDZ1iMUW-"
      },
      "outputs": [],
      "source": [
        "import pandas as pd\n",
        "import yfinance as yf"
      ]
    },
    {
      "cell_type": "code",
      "execution_count": null,
      "metadata": {
        "id": "5eaHXAwmMUW-"
      },
      "outputs": [],
      "source": [
        "ticker = \"EURUSD=X\"\n",
        "ticker2 = \"USDEUR=X\""
      ]
    },
    {
      "cell_type": "code",
      "execution_count": null,
      "metadata": {
        "scrolled": true,
        "id": "bcakCNRaMUW-"
      },
      "outputs": [],
      "source": [
        "yf.download(ticker, period  = \"5y\")"
      ]
    },
    {
      "cell_type": "code",
      "execution_count": null,
      "metadata": {
        "scrolled": true,
        "id": "61ndOCz_MUW-"
      },
      "outputs": [],
      "source": [
        "yf.download(ticker2, period  = \"5y\")"
      ]
    },
    {
      "cell_type": "code",
      "execution_count": null,
      "metadata": {
        "id": "vNv4vNFnMUW_"
      },
      "outputs": [],
      "source": [
        "ticker3 = \"USDGBP=X\""
      ]
    },
    {
      "cell_type": "code",
      "execution_count": null,
      "metadata": {
        "scrolled": true,
        "id": "WkviwdRFMUW_"
      },
      "outputs": [],
      "source": [
        "yf.download(ticker3, period  = \"5y\")"
      ]
    },
    {
      "cell_type": "code",
      "execution_count": null,
      "metadata": {
        "id": "P6NOcBjRMUW_"
      },
      "outputs": [],
      "source": []
    },
    {
      "cell_type": "markdown",
      "metadata": {
        "id": "cWuM93xfMUW_"
      },
      "source": [
        "## Importing Cryptocurrencies"
      ]
    },
    {
      "cell_type": "code",
      "execution_count": null,
      "metadata": {
        "id": "NNiPf4waMUW_"
      },
      "outputs": [],
      "source": [
        "import pandas as pd\n",
        "import yfinance as yf"
      ]
    },
    {
      "cell_type": "code",
      "execution_count": null,
      "metadata": {
        "id": "zyVtIvcxMUW_"
      },
      "outputs": [],
      "source": [
        "ticker = [\"BTC-EUR\", \"ETH-USD\"]"
      ]
    },
    {
      "cell_type": "code",
      "execution_count": null,
      "metadata": {
        "scrolled": true,
        "id": "QjeUwsJXMUXA"
      },
      "outputs": [],
      "source": [
        "yf.download(ticker, period  = \"5y\")"
      ]
    },
    {
      "cell_type": "code",
      "execution_count": null,
      "metadata": {
        "id": "xb14qlrKMUXA"
      },
      "outputs": [],
      "source": [
        "crypt = yf.download(ticker, period  = \"5y\").Close"
      ]
    },
    {
      "cell_type": "code",
      "execution_count": null,
      "metadata": {
        "scrolled": true,
        "id": "SqFiOXbeMUXA"
      },
      "outputs": [],
      "source": [
        "crypt"
      ]
    },
    {
      "cell_type": "code",
      "execution_count": null,
      "metadata": {
        "id": "QzjFXai-MUXA"
      },
      "outputs": [],
      "source": [
        "import matplotlib.pyplot as plt"
      ]
    },
    {
      "cell_type": "code",
      "execution_count": null,
      "metadata": {
        "id": "lZsz3FUdMUXA"
      },
      "outputs": [],
      "source": [
        "crypt.plot()\n",
        "plt.show()"
      ]
    },
    {
      "cell_type": "code",
      "execution_count": null,
      "metadata": {
        "id": "i1_KCdxRMUXB"
      },
      "outputs": [],
      "source": []
    },
    {
      "cell_type": "markdown",
      "metadata": {
        "id": "OyQShoxOMUXB"
      },
      "source": [
        "## Importing Funds & ETFs"
      ]
    },
    {
      "cell_type": "code",
      "execution_count": null,
      "metadata": {
        "id": "ihPNwE5tMUXB"
      },
      "outputs": [],
      "source": [
        "import pandas as pd\n",
        "import yfinance as yf"
      ]
    },
    {
      "cell_type": "code",
      "execution_count": null,
      "metadata": {
        "id": "RFgW6YHOMUXB"
      },
      "outputs": [],
      "source": [
        "ticker = \"TLT\" # iShares 20+ Year Treasury Bond ETF\n",
        "ticker2 = \"OMOIX\" # Vivaldi Multi-Strategy Fund Class I"
      ]
    },
    {
      "cell_type": "code",
      "execution_count": null,
      "metadata": {
        "scrolled": true,
        "id": "spYyiT9ZMUXC"
      },
      "outputs": [],
      "source": [
        "yf.download(ticker, period  = \"5y\")"
      ]
    },
    {
      "cell_type": "code",
      "execution_count": null,
      "metadata": {
        "scrolled": true,
        "id": "Gx3AYBRyMUXC"
      },
      "outputs": [],
      "source": [
        "yf.download(ticker2, period  = \"5y\") "
      ]
    },
    {
      "cell_type": "code",
      "execution_count": null,
      "metadata": {
        "id": "-qoXVn9-MUXC"
      },
      "outputs": [],
      "source": []
    },
    {
      "cell_type": "markdown",
      "metadata": {
        "id": "KXIwM9pLMUXC"
      },
      "source": [
        "## Importing Treasury Yields"
      ]
    },
    {
      "cell_type": "code",
      "execution_count": null,
      "metadata": {
        "id": "vUmEjXWqMUXC"
      },
      "outputs": [],
      "source": [
        "import pandas as pd\n",
        "import yfinance as yf"
      ]
    },
    {
      "cell_type": "code",
      "execution_count": null,
      "metadata": {
        "id": "kGYPuv7_MUXC"
      },
      "outputs": [],
      "source": [
        "ticker1 = \"^TNX\" # 10Y Tresury Yield\n",
        "ticker2 = \"^FVX\" # 5Y Treasury Yield"
      ]
    },
    {
      "cell_type": "code",
      "execution_count": null,
      "metadata": {
        "id": "-dFr9xdjMUXD"
      },
      "outputs": [],
      "source": [
        "ticker = [\"^TNX\", \"^FVX\"]"
      ]
    },
    {
      "cell_type": "code",
      "execution_count": null,
      "metadata": {
        "scrolled": true,
        "id": "HEr2VAqUMUXD"
      },
      "outputs": [],
      "source": [
        "yf.download(ticker, period  = \"5y\")"
      ]
    },
    {
      "cell_type": "code",
      "execution_count": null,
      "metadata": {
        "id": "7cXSZe86MUXD"
      },
      "outputs": [],
      "source": [
        "yields = yf.download(ticker, period  = \"5y\").Close"
      ]
    },
    {
      "cell_type": "code",
      "execution_count": null,
      "metadata": {
        "id": "Zus8UVJ7MUXD"
      },
      "outputs": [],
      "source": [
        "import matplotlib.pyplot as plt"
      ]
    },
    {
      "cell_type": "code",
      "execution_count": null,
      "metadata": {
        "id": "SmkeWkKYMUXD"
      },
      "outputs": [],
      "source": [
        "yields.plot()\n",
        "plt.show()"
      ]
    },
    {
      "cell_type": "code",
      "execution_count": null,
      "metadata": {
        "id": "EqAL944UMUXD"
      },
      "outputs": [],
      "source": []
    },
    {
      "cell_type": "markdown",
      "metadata": {
        "id": "GgaryQqXMUXE"
      },
      "source": [
        "## The Ticker Object"
      ]
    },
    {
      "cell_type": "code",
      "execution_count": null,
      "metadata": {
        "id": "Jx1dFlL1MUXE"
      },
      "outputs": [],
      "source": [
        "import pandas as pd\n",
        "import yfinance as yf"
      ]
    },
    {
      "cell_type": "code",
      "execution_count": null,
      "metadata": {
        "id": "83bz46XZMUXE"
      },
      "outputs": [],
      "source": [
        "ticker = \"DIS\""
      ]
    },
    {
      "cell_type": "code",
      "execution_count": null,
      "metadata": {
        "id": "r9u-vPbaMUXE"
      },
      "outputs": [],
      "source": [
        "dis = yf.Ticker(ticker)"
      ]
    },
    {
      "cell_type": "code",
      "execution_count": null,
      "metadata": {
        "id": "Qxg546XJMUXE"
      },
      "outputs": [],
      "source": [
        "dis"
      ]
    },
    {
      "cell_type": "code",
      "execution_count": null,
      "metadata": {
        "id": "Fla5p_xOMUXF"
      },
      "outputs": [],
      "source": [
        "dis.ticker"
      ]
    },
    {
      "cell_type": "code",
      "execution_count": null,
      "metadata": {
        "scrolled": true,
        "id": "h-pcf7kVMUXF"
      },
      "outputs": [],
      "source": [
        "dis.history()"
      ]
    },
    {
      "cell_type": "code",
      "execution_count": null,
      "metadata": {
        "id": "S6FypA3XMUXF"
      },
      "outputs": [],
      "source": []
    },
    {
      "cell_type": "markdown",
      "metadata": {
        "id": "iZi7vNchMUXF"
      },
      "source": [
        "## Stock Fundamentals, Meta Data and Performance Metrics"
      ]
    },
    {
      "cell_type": "code",
      "execution_count": null,
      "metadata": {
        "id": "JMJwTK1gMUXF"
      },
      "outputs": [],
      "source": [
        "dis"
      ]
    },
    {
      "cell_type": "code",
      "execution_count": null,
      "metadata": {
        "scrolled": true,
        "id": "gdE5lgGfMUXF"
      },
      "outputs": [],
      "source": [
        "dis.info"
      ]
    },
    {
      "cell_type": "code",
      "execution_count": null,
      "metadata": {
        "scrolled": true,
        "id": "VYAXgZ4FMUXG"
      },
      "outputs": [],
      "source": [
        "pd.Series(dis.info)"
      ]
    },
    {
      "cell_type": "code",
      "execution_count": null,
      "metadata": {
        "id": "EWGJKuBdMUXG"
      },
      "outputs": [],
      "source": [
        "df = pd.Series(dis.info, name = \"DIS\").to_frame().T\n",
        "df"
      ]
    },
    {
      "cell_type": "code",
      "execution_count": null,
      "metadata": {
        "id": "UC3MNYJLMUXG"
      },
      "outputs": [],
      "source": [
        "ticker = [\"MSFT\", \"FB\"]"
      ]
    },
    {
      "cell_type": "code",
      "execution_count": null,
      "metadata": {
        "id": "un-OvA_5MUXG"
      },
      "outputs": [],
      "source": [
        "for i in ticker:\n",
        "    df.loc[\"{}\".format(i)] = pd.Series(yf.Ticker(i).info)    "
      ]
    },
    {
      "cell_type": "code",
      "execution_count": null,
      "metadata": {
        "id": "QBBmg95oMUXG"
      },
      "outputs": [],
      "source": [
        "df"
      ]
    },
    {
      "cell_type": "code",
      "execution_count": null,
      "metadata": {
        "scrolled": true,
        "id": "Yz9LH6-PMUXG"
      },
      "outputs": [],
      "source": [
        "df.info()"
      ]
    },
    {
      "cell_type": "code",
      "execution_count": null,
      "metadata": {
        "id": "QHyI4JpsMUXH"
      },
      "outputs": [],
      "source": []
    },
    {
      "cell_type": "markdown",
      "metadata": {
        "id": "_KmIDZ9FMUXH"
      },
      "source": [
        "## Importing Financials (Balance Sheet, P&L, Cashflows)"
      ]
    },
    {
      "cell_type": "code",
      "execution_count": null,
      "metadata": {
        "id": "Tu4y48YjMUXH"
      },
      "outputs": [],
      "source": [
        "dis"
      ]
    },
    {
      "cell_type": "code",
      "execution_count": null,
      "metadata": {
        "scrolled": true,
        "id": "FrsPpanmMUXH"
      },
      "outputs": [],
      "source": [
        "dis.balance_sheet"
      ]
    },
    {
      "cell_type": "code",
      "execution_count": null,
      "metadata": {
        "id": "3gL_Kl2AMUXH"
      },
      "outputs": [],
      "source": [
        "dis.financials"
      ]
    },
    {
      "cell_type": "code",
      "execution_count": null,
      "metadata": {
        "scrolled": true,
        "id": "o9rEWXuoMUXH"
      },
      "outputs": [],
      "source": [
        "dis.cashflow"
      ]
    },
    {
      "cell_type": "code",
      "execution_count": null,
      "metadata": {
        "id": "V5kiCUAeMUXH"
      },
      "outputs": [],
      "source": [
        "ticker = [\"AAPL\", \"FB\", \"AMZN\"]"
      ]
    },
    {
      "cell_type": "code",
      "execution_count": null,
      "metadata": {
        "id": "6QZFuQnGMUXI"
      },
      "outputs": [],
      "source": [
        "for i in ticker:\n",
        "    yf.Ticker(i).financials.to_csv(\"{}.csv\".format(i))"
      ]
    },
    {
      "cell_type": "code",
      "execution_count": null,
      "metadata": {
        "id": "F7Brwtr9MUXI"
      },
      "outputs": [],
      "source": []
    },
    {
      "cell_type": "markdown",
      "metadata": {
        "id": "wqagQtcXMUXI"
      },
      "source": [
        "## Importing Put / Call Options (Stocks)"
      ]
    },
    {
      "cell_type": "code",
      "execution_count": null,
      "metadata": {
        "id": "vAs1ofnvMUXI",
        "outputId": "9330e6e1-c6b5-4e8a-a5d5-ab41054baf18"
      },
      "outputs": [
        {
          "data": {
            "text/html": [
              "<div>\n",
              "<style scoped>\n",
              "    .dataframe tbody tr th:only-of-type {\n",
              "        vertical-align: middle;\n",
              "    }\n",
              "\n",
              "    .dataframe tbody tr th {\n",
              "        vertical-align: top;\n",
              "    }\n",
              "\n",
              "    .dataframe thead th {\n",
              "        text-align: right;\n",
              "    }\n",
              "</style>\n",
              "<table border=\"1\" class=\"dataframe\">\n",
              "  <thead>\n",
              "    <tr style=\"text-align: right;\">\n",
              "      <th></th>\n",
              "      <th>Open</th>\n",
              "      <th>High</th>\n",
              "      <th>Low</th>\n",
              "      <th>Close</th>\n",
              "      <th>Adj Close</th>\n",
              "      <th>Volume</th>\n",
              "    </tr>\n",
              "    <tr>\n",
              "      <th>Date</th>\n",
              "      <th></th>\n",
              "      <th></th>\n",
              "      <th></th>\n",
              "      <th></th>\n",
              "      <th></th>\n",
              "      <th></th>\n",
              "    </tr>\n",
              "  </thead>\n",
              "  <tbody>\n",
              "    <tr>\n",
              "      <th>1993-01-29</th>\n",
              "      <td>43.968750</td>\n",
              "      <td>43.968750</td>\n",
              "      <td>43.750000</td>\n",
              "      <td>43.937500</td>\n",
              "      <td>26.299288</td>\n",
              "      <td>1003200</td>\n",
              "    </tr>\n",
              "    <tr>\n",
              "      <th>1993-02-01</th>\n",
              "      <td>43.968750</td>\n",
              "      <td>44.250000</td>\n",
              "      <td>43.968750</td>\n",
              "      <td>44.250000</td>\n",
              "      <td>26.486324</td>\n",
              "      <td>480500</td>\n",
              "    </tr>\n",
              "    <tr>\n",
              "      <th>1993-02-02</th>\n",
              "      <td>44.218750</td>\n",
              "      <td>44.375000</td>\n",
              "      <td>44.125000</td>\n",
              "      <td>44.343750</td>\n",
              "      <td>26.542448</td>\n",
              "      <td>201300</td>\n",
              "    </tr>\n",
              "    <tr>\n",
              "      <th>1993-02-03</th>\n",
              "      <td>44.406250</td>\n",
              "      <td>44.843750</td>\n",
              "      <td>44.375000</td>\n",
              "      <td>44.812500</td>\n",
              "      <td>26.822998</td>\n",
              "      <td>529400</td>\n",
              "    </tr>\n",
              "    <tr>\n",
              "      <th>1993-02-04</th>\n",
              "      <td>44.968750</td>\n",
              "      <td>45.093750</td>\n",
              "      <td>44.468750</td>\n",
              "      <td>45.000000</td>\n",
              "      <td>26.935240</td>\n",
              "      <td>531500</td>\n",
              "    </tr>\n",
              "    <tr>\n",
              "      <th>1993-02-05</th>\n",
              "      <td>44.968750</td>\n",
              "      <td>45.062500</td>\n",
              "      <td>44.718750</td>\n",
              "      <td>44.968750</td>\n",
              "      <td>26.916538</td>\n",
              "      <td>492100</td>\n",
              "    </tr>\n",
              "    <tr>\n",
              "      <th>1993-02-08</th>\n",
              "      <td>44.968750</td>\n",
              "      <td>45.125000</td>\n",
              "      <td>44.906250</td>\n",
              "      <td>44.968750</td>\n",
              "      <td>26.916538</td>\n",
              "      <td>596100</td>\n",
              "    </tr>\n",
              "    <tr>\n",
              "      <th>1993-02-09</th>\n",
              "      <td>44.812500</td>\n",
              "      <td>44.812500</td>\n",
              "      <td>44.562500</td>\n",
              "      <td>44.656250</td>\n",
              "      <td>26.729490</td>\n",
              "      <td>122100</td>\n",
              "    </tr>\n",
              "    <tr>\n",
              "      <th>1993-02-10</th>\n",
              "      <td>44.656250</td>\n",
              "      <td>44.750000</td>\n",
              "      <td>44.531250</td>\n",
              "      <td>44.718750</td>\n",
              "      <td>26.766899</td>\n",
              "      <td>379600</td>\n",
              "    </tr>\n",
              "    <tr>\n",
              "      <th>1993-02-11</th>\n",
              "      <td>44.781250</td>\n",
              "      <td>45.125000</td>\n",
              "      <td>44.781250</td>\n",
              "      <td>44.937500</td>\n",
              "      <td>26.897835</td>\n",
              "      <td>19500</td>\n",
              "    </tr>\n",
              "    <tr>\n",
              "      <th>1993-02-12</th>\n",
              "      <td>44.875000</td>\n",
              "      <td>44.875000</td>\n",
              "      <td>44.593750</td>\n",
              "      <td>44.593750</td>\n",
              "      <td>26.692072</td>\n",
              "      <td>42500</td>\n",
              "    </tr>\n",
              "    <tr>\n",
              "      <th>1993-02-16</th>\n",
              "      <td>44.468750</td>\n",
              "      <td>44.468750</td>\n",
              "      <td>43.406250</td>\n",
              "      <td>43.468750</td>\n",
              "      <td>26.018700</td>\n",
              "      <td>374800</td>\n",
              "    </tr>\n",
              "    <tr>\n",
              "      <th>1993-02-17</th>\n",
              "      <td>43.468750</td>\n",
              "      <td>43.531250</td>\n",
              "      <td>43.281250</td>\n",
              "      <td>43.437500</td>\n",
              "      <td>25.999992</td>\n",
              "      <td>210900</td>\n",
              "    </tr>\n",
              "    <tr>\n",
              "      <th>1993-02-18</th>\n",
              "      <td>43.937500</td>\n",
              "      <td>43.937500</td>\n",
              "      <td>42.812500</td>\n",
              "      <td>43.406250</td>\n",
              "      <td>25.981276</td>\n",
              "      <td>378100</td>\n",
              "    </tr>\n",
              "    <tr>\n",
              "      <th>1993-02-19</th>\n",
              "      <td>43.406250</td>\n",
              "      <td>43.562500</td>\n",
              "      <td>43.343750</td>\n",
              "      <td>43.562500</td>\n",
              "      <td>26.074812</td>\n",
              "      <td>34900</td>\n",
              "    </tr>\n",
              "    <tr>\n",
              "      <th>1993-02-22</th>\n",
              "      <td>43.687500</td>\n",
              "      <td>43.781250</td>\n",
              "      <td>43.562500</td>\n",
              "      <td>43.718750</td>\n",
              "      <td>26.168346</td>\n",
              "      <td>513600</td>\n",
              "    </tr>\n",
              "    <tr>\n",
              "      <th>1993-02-23</th>\n",
              "      <td>43.843750</td>\n",
              "      <td>43.875000</td>\n",
              "      <td>43.468750</td>\n",
              "      <td>43.687500</td>\n",
              "      <td>26.149637</td>\n",
              "      <td>373700</td>\n",
              "    </tr>\n",
              "    <tr>\n",
              "      <th>1993-02-24</th>\n",
              "      <td>43.718750</td>\n",
              "      <td>44.250000</td>\n",
              "      <td>43.718750</td>\n",
              "      <td>44.250000</td>\n",
              "      <td>26.486324</td>\n",
              "      <td>26300</td>\n",
              "    </tr>\n",
              "    <tr>\n",
              "      <th>1993-02-25</th>\n",
              "      <td>44.218750</td>\n",
              "      <td>44.375000</td>\n",
              "      <td>44.125000</td>\n",
              "      <td>44.343750</td>\n",
              "      <td>26.542448</td>\n",
              "      <td>44500</td>\n",
              "    </tr>\n",
              "    <tr>\n",
              "      <th>1993-02-26</th>\n",
              "      <td>44.437500</td>\n",
              "      <td>44.437500</td>\n",
              "      <td>44.187500</td>\n",
              "      <td>44.406250</td>\n",
              "      <td>26.579865</td>\n",
              "      <td>66200</td>\n",
              "    </tr>\n",
              "    <tr>\n",
              "      <th>1993-03-01</th>\n",
              "      <td>44.562500</td>\n",
              "      <td>44.562500</td>\n",
              "      <td>44.218750</td>\n",
              "      <td>44.281250</td>\n",
              "      <td>26.505026</td>\n",
              "      <td>66500</td>\n",
              "    </tr>\n",
              "    <tr>\n",
              "      <th>1993-03-02</th>\n",
              "      <td>44.312500</td>\n",
              "      <td>44.937500</td>\n",
              "      <td>44.250000</td>\n",
              "      <td>44.937500</td>\n",
              "      <td>26.897835</td>\n",
              "      <td>182400</td>\n",
              "    </tr>\n",
              "    <tr>\n",
              "      <th>1993-03-03</th>\n",
              "      <td>45.000000</td>\n",
              "      <td>45.156250</td>\n",
              "      <td>44.937500</td>\n",
              "      <td>45.125000</td>\n",
              "      <td>27.010061</td>\n",
              "      <td>280100</td>\n",
              "    </tr>\n",
              "    <tr>\n",
              "      <th>1993-03-04</th>\n",
              "      <td>45.187500</td>\n",
              "      <td>45.187500</td>\n",
              "      <td>44.875000</td>\n",
              "      <td>44.875000</td>\n",
              "      <td>26.860428</td>\n",
              "      <td>89500</td>\n",
              "    </tr>\n",
              "    <tr>\n",
              "      <th>1993-03-05</th>\n",
              "      <td>44.937500</td>\n",
              "      <td>45.125000</td>\n",
              "      <td>44.718750</td>\n",
              "      <td>44.750000</td>\n",
              "      <td>26.785612</td>\n",
              "      <td>40000</td>\n",
              "    </tr>\n",
              "    <tr>\n",
              "      <th>1993-03-08</th>\n",
              "      <td>44.843750</td>\n",
              "      <td>45.750000</td>\n",
              "      <td>44.843750</td>\n",
              "      <td>45.750000</td>\n",
              "      <td>27.384171</td>\n",
              "      <td>50800</td>\n",
              "    </tr>\n",
              "    <tr>\n",
              "      <th>1993-03-09</th>\n",
              "      <td>45.656250</td>\n",
              "      <td>45.687500</td>\n",
              "      <td>45.500000</td>\n",
              "      <td>45.593750</td>\n",
              "      <td>27.290640</td>\n",
              "      <td>169300</td>\n",
              "    </tr>\n",
              "    <tr>\n",
              "      <th>1993-03-10</th>\n",
              "      <td>45.593750</td>\n",
              "      <td>45.687500</td>\n",
              "      <td>45.406250</td>\n",
              "      <td>45.687500</td>\n",
              "      <td>27.346737</td>\n",
              "      <td>194400</td>\n",
              "    </tr>\n",
              "    <tr>\n",
              "      <th>1993-03-11</th>\n",
              "      <td>45.718750</td>\n",
              "      <td>45.843750</td>\n",
              "      <td>45.500000</td>\n",
              "      <td>45.562500</td>\n",
              "      <td>27.271942</td>\n",
              "      <td>70900</td>\n",
              "    </tr>\n",
              "    <tr>\n",
              "      <th>1993-03-12</th>\n",
              "      <td>45.187500</td>\n",
              "      <td>45.218750</td>\n",
              "      <td>44.812500</td>\n",
              "      <td>45.093750</td>\n",
              "      <td>26.991364</td>\n",
              "      <td>643600</td>\n",
              "    </tr>\n",
              "    <tr>\n",
              "      <th>...</th>\n",
              "      <td>...</td>\n",
              "      <td>...</td>\n",
              "      <td>...</td>\n",
              "      <td>...</td>\n",
              "      <td>...</td>\n",
              "      <td>...</td>\n",
              "    </tr>\n",
              "    <tr>\n",
              "      <th>2020-02-24</th>\n",
              "      <td>323.140015</td>\n",
              "      <td>333.559998</td>\n",
              "      <td>321.239990</td>\n",
              "      <td>322.420013</td>\n",
              "      <td>320.535187</td>\n",
              "      <td>161088400</td>\n",
              "    </tr>\n",
              "    <tr>\n",
              "      <th>2020-02-25</th>\n",
              "      <td>323.940002</td>\n",
              "      <td>324.609985</td>\n",
              "      <td>311.690002</td>\n",
              "      <td>312.649994</td>\n",
              "      <td>310.822266</td>\n",
              "      <td>218913200</td>\n",
              "    </tr>\n",
              "    <tr>\n",
              "      <th>2020-02-26</th>\n",
              "      <td>314.179993</td>\n",
              "      <td>318.109985</td>\n",
              "      <td>310.700012</td>\n",
              "      <td>311.500000</td>\n",
              "      <td>309.678986</td>\n",
              "      <td>194773800</td>\n",
              "    </tr>\n",
              "    <tr>\n",
              "      <th>2020-02-27</th>\n",
              "      <td>305.459991</td>\n",
              "      <td>311.559998</td>\n",
              "      <td>297.510010</td>\n",
              "      <td>297.510010</td>\n",
              "      <td>295.770782</td>\n",
              "      <td>284353500</td>\n",
              "    </tr>\n",
              "    <tr>\n",
              "      <th>2020-02-28</th>\n",
              "      <td>288.700012</td>\n",
              "      <td>297.890015</td>\n",
              "      <td>285.540009</td>\n",
              "      <td>296.260010</td>\n",
              "      <td>294.528107</td>\n",
              "      <td>385764000</td>\n",
              "    </tr>\n",
              "    <tr>\n",
              "      <th>2020-03-02</th>\n",
              "      <td>298.209991</td>\n",
              "      <td>309.160004</td>\n",
              "      <td>294.459991</td>\n",
              "      <td>309.089996</td>\n",
              "      <td>307.283081</td>\n",
              "      <td>238703600</td>\n",
              "    </tr>\n",
              "    <tr>\n",
              "      <th>2020-03-03</th>\n",
              "      <td>309.500000</td>\n",
              "      <td>313.839996</td>\n",
              "      <td>297.570007</td>\n",
              "      <td>300.239990</td>\n",
              "      <td>298.484802</td>\n",
              "      <td>300139100</td>\n",
              "    </tr>\n",
              "    <tr>\n",
              "      <th>2020-03-04</th>\n",
              "      <td>306.119995</td>\n",
              "      <td>313.100006</td>\n",
              "      <td>303.329987</td>\n",
              "      <td>312.859985</td>\n",
              "      <td>311.031036</td>\n",
              "      <td>176613400</td>\n",
              "    </tr>\n",
              "    <tr>\n",
              "      <th>2020-03-05</th>\n",
              "      <td>304.980011</td>\n",
              "      <td>308.470001</td>\n",
              "      <td>300.010010</td>\n",
              "      <td>302.459991</td>\n",
              "      <td>300.691833</td>\n",
              "      <td>186366800</td>\n",
              "    </tr>\n",
              "    <tr>\n",
              "      <th>2020-03-06</th>\n",
              "      <td>293.149994</td>\n",
              "      <td>298.779999</td>\n",
              "      <td>290.230011</td>\n",
              "      <td>297.459991</td>\n",
              "      <td>295.721069</td>\n",
              "      <td>228667200</td>\n",
              "    </tr>\n",
              "    <tr>\n",
              "      <th>2020-03-09</th>\n",
              "      <td>275.299988</td>\n",
              "      <td>284.190002</td>\n",
              "      <td>273.450012</td>\n",
              "      <td>274.230011</td>\n",
              "      <td>272.626892</td>\n",
              "      <td>309417300</td>\n",
              "    </tr>\n",
              "    <tr>\n",
              "      <th>2020-03-10</th>\n",
              "      <td>284.640015</td>\n",
              "      <td>288.519989</td>\n",
              "      <td>273.500000</td>\n",
              "      <td>288.420013</td>\n",
              "      <td>286.733948</td>\n",
              "      <td>276444100</td>\n",
              "    </tr>\n",
              "    <tr>\n",
              "      <th>2020-03-11</th>\n",
              "      <td>280.700012</td>\n",
              "      <td>281.940002</td>\n",
              "      <td>270.880005</td>\n",
              "      <td>274.359985</td>\n",
              "      <td>272.756104</td>\n",
              "      <td>255316300</td>\n",
              "    </tr>\n",
              "    <tr>\n",
              "      <th>2020-03-12</th>\n",
              "      <td>256.000000</td>\n",
              "      <td>266.660004</td>\n",
              "      <td>247.679993</td>\n",
              "      <td>248.110001</td>\n",
              "      <td>246.659576</td>\n",
              "      <td>392220700</td>\n",
              "    </tr>\n",
              "    <tr>\n",
              "      <th>2020-03-13</th>\n",
              "      <td>263.089996</td>\n",
              "      <td>271.480011</td>\n",
              "      <td>248.520004</td>\n",
              "      <td>269.320007</td>\n",
              "      <td>267.745575</td>\n",
              "      <td>329566100</td>\n",
              "    </tr>\n",
              "    <tr>\n",
              "      <th>2020-03-16</th>\n",
              "      <td>241.179993</td>\n",
              "      <td>256.899994</td>\n",
              "      <td>237.360001</td>\n",
              "      <td>239.850006</td>\n",
              "      <td>238.447861</td>\n",
              "      <td>297240000</td>\n",
              "    </tr>\n",
              "    <tr>\n",
              "      <th>2020-03-17</th>\n",
              "      <td>245.039993</td>\n",
              "      <td>256.170013</td>\n",
              "      <td>237.070007</td>\n",
              "      <td>252.800003</td>\n",
              "      <td>251.322159</td>\n",
              "      <td>262070500</td>\n",
              "    </tr>\n",
              "    <tr>\n",
              "      <th>2020-03-18</th>\n",
              "      <td>236.250000</td>\n",
              "      <td>248.369995</td>\n",
              "      <td>228.020004</td>\n",
              "      <td>240.000000</td>\n",
              "      <td>238.596985</td>\n",
              "      <td>327597100</td>\n",
              "    </tr>\n",
              "    <tr>\n",
              "      <th>2020-03-19</th>\n",
              "      <td>239.250000</td>\n",
              "      <td>247.380005</td>\n",
              "      <td>232.220001</td>\n",
              "      <td>240.509995</td>\n",
              "      <td>239.103989</td>\n",
              "      <td>289322000</td>\n",
              "    </tr>\n",
              "    <tr>\n",
              "      <th>2020-03-20</th>\n",
              "      <td>242.529999</td>\n",
              "      <td>244.470001</td>\n",
              "      <td>228.500000</td>\n",
              "      <td>228.800003</td>\n",
              "      <td>228.800003</td>\n",
              "      <td>347158800</td>\n",
              "    </tr>\n",
              "    <tr>\n",
              "      <th>2020-03-23</th>\n",
              "      <td>228.190002</td>\n",
              "      <td>229.679993</td>\n",
              "      <td>218.259995</td>\n",
              "      <td>222.949997</td>\n",
              "      <td>222.949997</td>\n",
              "      <td>326025200</td>\n",
              "    </tr>\n",
              "    <tr>\n",
              "      <th>2020-03-24</th>\n",
              "      <td>234.419998</td>\n",
              "      <td>244.100006</td>\n",
              "      <td>233.800003</td>\n",
              "      <td>243.149994</td>\n",
              "      <td>243.149994</td>\n",
              "      <td>235494500</td>\n",
              "    </tr>\n",
              "    <tr>\n",
              "      <th>2020-03-25</th>\n",
              "      <td>244.869995</td>\n",
              "      <td>256.350006</td>\n",
              "      <td>239.750000</td>\n",
              "      <td>246.789993</td>\n",
              "      <td>246.789993</td>\n",
              "      <td>299430300</td>\n",
              "    </tr>\n",
              "    <tr>\n",
              "      <th>2020-03-26</th>\n",
              "      <td>249.520004</td>\n",
              "      <td>262.799988</td>\n",
              "      <td>249.050003</td>\n",
              "      <td>261.200012</td>\n",
              "      <td>261.200012</td>\n",
              "      <td>257632800</td>\n",
              "    </tr>\n",
              "    <tr>\n",
              "      <th>2020-03-27</th>\n",
              "      <td>253.270004</td>\n",
              "      <td>260.809998</td>\n",
              "      <td>251.050003</td>\n",
              "      <td>253.419998</td>\n",
              "      <td>253.419998</td>\n",
              "      <td>224341200</td>\n",
              "    </tr>\n",
              "    <tr>\n",
              "      <th>2020-03-30</th>\n",
              "      <td>255.699997</td>\n",
              "      <td>262.429993</td>\n",
              "      <td>253.529999</td>\n",
              "      <td>261.649994</td>\n",
              "      <td>261.649994</td>\n",
              "      <td>171369500</td>\n",
              "    </tr>\n",
              "    <tr>\n",
              "      <th>2020-03-31</th>\n",
              "      <td>260.559998</td>\n",
              "      <td>263.329987</td>\n",
              "      <td>256.220001</td>\n",
              "      <td>257.750000</td>\n",
              "      <td>257.750000</td>\n",
              "      <td>194881100</td>\n",
              "    </tr>\n",
              "    <tr>\n",
              "      <th>2020-04-01</th>\n",
              "      <td>247.979996</td>\n",
              "      <td>257.660004</td>\n",
              "      <td>243.899994</td>\n",
              "      <td>246.149994</td>\n",
              "      <td>246.149994</td>\n",
              "      <td>189554600</td>\n",
              "    </tr>\n",
              "    <tr>\n",
              "      <th>2020-04-02</th>\n",
              "      <td>245.190002</td>\n",
              "      <td>252.679993</td>\n",
              "      <td>244.589996</td>\n",
              "      <td>251.830002</td>\n",
              "      <td>251.830002</td>\n",
              "      <td>177660400</td>\n",
              "    </tr>\n",
              "    <tr>\n",
              "      <th>2020-04-03</th>\n",
              "      <td>250.759995</td>\n",
              "      <td>253.320007</td>\n",
              "      <td>245.220001</td>\n",
              "      <td>248.190002</td>\n",
              "      <td>248.190002</td>\n",
              "      <td>135310100</td>\n",
              "    </tr>\n",
              "  </tbody>\n",
              "</table>\n",
              "<p>6845 rows × 6 columns</p>\n",
              "</div>"
            ],
            "text/plain": [
              "                  Open        High         Low       Close   Adj Close  \\\n",
              "Date                                                                     \n",
              "1993-01-29   43.968750   43.968750   43.750000   43.937500   26.299288   \n",
              "1993-02-01   43.968750   44.250000   43.968750   44.250000   26.486324   \n",
              "1993-02-02   44.218750   44.375000   44.125000   44.343750   26.542448   \n",
              "1993-02-03   44.406250   44.843750   44.375000   44.812500   26.822998   \n",
              "1993-02-04   44.968750   45.093750   44.468750   45.000000   26.935240   \n",
              "...                ...         ...         ...         ...         ...   \n",
              "2020-03-30  255.699997  262.429993  253.529999  261.649994  261.649994   \n",
              "2020-03-31  260.559998  263.329987  256.220001  257.750000  257.750000   \n",
              "2020-04-01  247.979996  257.660004  243.899994  246.149994  246.149994   \n",
              "2020-04-02  245.190002  252.679993  244.589996  251.830002  251.830002   \n",
              "2020-04-03  250.759995  253.320007  245.220001  248.190002  248.190002   \n",
              "\n",
              "               Volume  \n",
              "Date                   \n",
              "1993-01-29    1003200  \n",
              "1993-02-01     480500  \n",
              "1993-02-02     201300  \n",
              "1993-02-03     529400  \n",
              "1993-02-04     531500  \n",
              "...               ...  \n",
              "2020-03-30  171369500  \n",
              "2020-03-31  194881100  \n",
              "2020-04-01  189554600  \n",
              "2020-04-02  177660400  \n",
              "2020-04-03  135310100  \n",
              "\n",
              "[6845 rows x 6 columns]"
            ]
          },
          "execution_count": 9,
          "metadata": {},
          "output_type": "execute_result"
        }
      ],
      "source": [
        "SPY"
      ]
    },
    {
      "cell_type": "code",
      "execution_count": null,
      "metadata": {
        "scrolled": true,
        "id": "eNdBM0IhMUXI",
        "outputId": "42fde23e-acac-4d5d-97c5-f46c7ee4a3b4"
      },
      "outputs": [
        {
          "ename": "AttributeError",
          "evalue": "'DataFrame' object has no attribute 'option_chain'",
          "output_type": "error",
          "traceback": [
            "\u001b[1;31m---------------------------------------------------------------------------\u001b[0m",
            "\u001b[1;31mAttributeError\u001b[0m                            Traceback (most recent call last)",
            "\u001b[1;32m<ipython-input-10-bf98637f23e4>\u001b[0m in \u001b[0;36m<module>\u001b[1;34m\u001b[0m\n\u001b[1;32m----> 1\u001b[1;33m \u001b[0mSPY\u001b[0m\u001b[1;33m.\u001b[0m\u001b[0moption_chain\u001b[0m\u001b[1;33m(\u001b[0m\u001b[1;33m)\u001b[0m\u001b[1;33m\u001b[0m\u001b[1;33m\u001b[0m\u001b[0m\n\u001b[0m",
            "\u001b[1;32m~\\AppData\\Roaming\\Python\\Python37\\site-packages\\pandas\\core\\generic.py\u001b[0m in \u001b[0;36m__getattr__\u001b[1;34m(self, name)\u001b[0m\n\u001b[0;32m   5178\u001b[0m             \u001b[1;32mif\u001b[0m \u001b[0mself\u001b[0m\u001b[1;33m.\u001b[0m\u001b[0m_info_axis\u001b[0m\u001b[1;33m.\u001b[0m\u001b[0m_can_hold_identifiers_and_holds_name\u001b[0m\u001b[1;33m(\u001b[0m\u001b[0mname\u001b[0m\u001b[1;33m)\u001b[0m\u001b[1;33m:\u001b[0m\u001b[1;33m\u001b[0m\u001b[1;33m\u001b[0m\u001b[0m\n\u001b[0;32m   5179\u001b[0m                 \u001b[1;32mreturn\u001b[0m \u001b[0mself\u001b[0m\u001b[1;33m[\u001b[0m\u001b[0mname\u001b[0m\u001b[1;33m]\u001b[0m\u001b[1;33m\u001b[0m\u001b[1;33m\u001b[0m\u001b[0m\n\u001b[1;32m-> 5180\u001b[1;33m             \u001b[1;32mreturn\u001b[0m \u001b[0mobject\u001b[0m\u001b[1;33m.\u001b[0m\u001b[0m__getattribute__\u001b[0m\u001b[1;33m(\u001b[0m\u001b[0mself\u001b[0m\u001b[1;33m,\u001b[0m \u001b[0mname\u001b[0m\u001b[1;33m)\u001b[0m\u001b[1;33m\u001b[0m\u001b[1;33m\u001b[0m\u001b[0m\n\u001b[0m\u001b[0;32m   5181\u001b[0m \u001b[1;33m\u001b[0m\u001b[0m\n\u001b[0;32m   5182\u001b[0m     \u001b[1;32mdef\u001b[0m \u001b[0m__setattr__\u001b[0m\u001b[1;33m(\u001b[0m\u001b[0mself\u001b[0m\u001b[1;33m,\u001b[0m \u001b[0mname\u001b[0m\u001b[1;33m,\u001b[0m \u001b[0mvalue\u001b[0m\u001b[1;33m)\u001b[0m\u001b[1;33m:\u001b[0m\u001b[1;33m\u001b[0m\u001b[1;33m\u001b[0m\u001b[0m\n",
            "\u001b[1;31mAttributeError\u001b[0m: 'DataFrame' object has no attribute 'option_chain'"
          ]
        }
      ],
      "source": [
        "SPY.option_chain()"
      ]
    },
    {
      "cell_type": "code",
      "execution_count": null,
      "metadata": {
        "id": "qmC5OqMRMUXJ"
      },
      "outputs": [],
      "source": [
        "calls = dis.option_chain()[0]\n",
        "calls"
      ]
    },
    {
      "cell_type": "code",
      "execution_count": null,
      "metadata": {
        "id": "SONUEMpOMUXJ"
      },
      "outputs": [],
      "source": [
        "puts = dis.option_chain()[1]\n",
        "puts"
      ]
    },
    {
      "cell_type": "code",
      "execution_count": null,
      "metadata": {
        "id": "JTe4GRqaMUXK"
      },
      "outputs": [],
      "source": []
    },
    {
      "cell_type": "markdown",
      "metadata": {
        "id": "eMDniT57MUXK"
      },
      "source": [
        "## Streaming real-time Data"
      ]
    },
    {
      "cell_type": "code",
      "execution_count": null,
      "metadata": {
        "id": "l7rysJPrMUXK"
      },
      "outputs": [],
      "source": [
        "import pandas as pd\n",
        "import yfinance as yf\n",
        "import time"
      ]
    },
    {
      "cell_type": "code",
      "execution_count": null,
      "metadata": {
        "id": "7T3ypAYfMUXK"
      },
      "outputs": [],
      "source": [
        "yf.download(\"EURUSD=X\", interval = \"1m\", period = \"1d\").tail()"
      ]
    },
    {
      "cell_type": "code",
      "execution_count": null,
      "metadata": {
        "id": "D8oql0i8MUXL"
      },
      "outputs": [],
      "source": [
        "data = yf.download(\"EURUSD=X\", interval = \"1m\", period = \"1d\")"
      ]
    },
    {
      "cell_type": "code",
      "execution_count": null,
      "metadata": {
        "id": "NsszAktyMUXL"
      },
      "outputs": [],
      "source": [
        "print(data.index[-1], data.iloc[-1, 3])"
      ]
    },
    {
      "cell_type": "code",
      "execution_count": null,
      "metadata": {
        "id": "O6RdHMG4MUXL"
      },
      "outputs": [],
      "source": [
        "while True:\n",
        "    time.sleep(5)\n",
        "    data = yf.download(\"EURUSD=X\", interval = \"1m\", period = \"1d\")\n",
        "    print(data.index[-1], data.iloc[-1, 3])"
      ]
    },
    {
      "cell_type": "code",
      "execution_count": null,
      "metadata": {
        "id": "SdxOdeynMUXM"
      },
      "outputs": [],
      "source": [
        "while True:\n",
        "    time.sleep(60)\n",
        "    data = yf.download(\"EURUSD=X\", interval = \"1m\", period = \"1d\")\n",
        "    print(data.index[-1], data.iloc[-1, 3])"
      ]
    },
    {
      "cell_type": "code",
      "execution_count": null,
      "metadata": {
        "id": "FncibUg5MUXM"
      },
      "outputs": [],
      "source": []
    }
  ],
  "metadata": {
    "kernelspec": {
      "display_name": "Python 3",
      "language": "python",
      "name": "python3"
    },
    "language_info": {
      "codemirror_mode": {
        "name": "ipython",
        "version": 3
      },
      "file_extension": ".py",
      "mimetype": "text/x-python",
      "name": "python",
      "nbconvert_exporter": "python",
      "pygments_lexer": "ipython3",
      "version": "3.7.3"
    },
    "colab": {
      "provenance": [],
      "include_colab_link": true
    }
  },
  "nbformat": 4,
  "nbformat_minor": 0
}